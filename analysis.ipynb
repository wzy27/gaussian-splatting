{
 "cells": [
  {
   "cell_type": "code",
   "execution_count": 1,
   "metadata": {},
   "outputs": [],
   "source": [
    "#\n",
    "# Copyright (C) 2023, Inria\n",
    "# GRAPHDECO research group, https://team.inria.fr/graphdeco\n",
    "# All rights reserved.\n",
    "#\n",
    "# This software is free for non-commercial, research and evaluation use \n",
    "# under the terms of the LICENSE.md file.\n",
    "#\n",
    "# For inquiries contact  george.drettakis@inria.fr\n",
    "#\n",
    "\n",
    "import torch\n",
    "import numpy as np\n",
    "from utils.general_utils import inverse_sigmoid, get_expon_lr_func, build_rotation\n",
    "from torch import nn\n",
    "import os\n",
    "from utils.system_utils import mkdir_p\n",
    "from plyfile import PlyData, PlyElement\n",
    "from utils.sh_utils import RGB2SH\n",
    "from simple_knn._C import distCUDA2\n",
    "from utils.graphics_utils import BasicPointCloud\n",
    "from utils.general_utils import strip_symmetric, build_scaling_rotation\n",
    "\n",
    "class GaussianModel:\n",
    "\n",
    "    def setup_functions(self):\n",
    "        def build_covariance_from_scaling_rotation(scaling, scaling_modifier, rotation):\n",
    "            L = build_scaling_rotation(scaling_modifier * scaling, rotation)\n",
    "            actual_covariance = L @ L.transpose(1, 2)\n",
    "            symm = strip_symmetric(actual_covariance)\n",
    "            return symm\n",
    "        \n",
    "        self.scaling_activation = torch.exp\n",
    "        self.scaling_inverse_activation = torch.log\n",
    "\n",
    "        self.covariance_activation = build_covariance_from_scaling_rotation\n",
    "\n",
    "        self.opacity_activation = torch.sigmoid\n",
    "        self.inverse_opacity_activation = inverse_sigmoid\n",
    "\n",
    "        self.rotation_activation = torch.nn.functional.normalize\n",
    "\n",
    "\n",
    "    def __init__(self, sh_degree : int):\n",
    "        self.active_sh_degree = 0\n",
    "        self.max_sh_degree = sh_degree  \n",
    "        self._xyz = torch.empty(0)\n",
    "        self._features_dc = torch.empty(0)\n",
    "        self._features_rest = torch.empty(0)\n",
    "        self._scaling = torch.empty(0)\n",
    "        self._rotation = torch.empty(0)\n",
    "        self._opacity = torch.empty(0)\n",
    "        self.max_radii2D = torch.empty(0)\n",
    "        self.xyz_gradient_accum = torch.empty(0)\n",
    "        self.denom = torch.empty(0)\n",
    "        self.optimizer = None\n",
    "        self.percent_dense = 0\n",
    "        self.spatial_lr_scale = 0\n",
    "        self.setup_functions()\n",
    "\n",
    "    @property\n",
    "    def get_scaling(self):\n",
    "        return self.scaling_activation(self._scaling)\n",
    "    \n",
    "    @property\n",
    "    def get_rotation(self):\n",
    "        return self.rotation_activation(self._rotation)\n",
    "    \n",
    "    @property\n",
    "    def get_xyz(self):\n",
    "        return self._xyz\n",
    "    \n",
    "    @property\n",
    "    def get_features(self):\n",
    "        features_dc = self._features_dc\n",
    "        features_rest = self._features_rest\n",
    "        return torch.cat((features_dc, features_rest), dim=1)\n",
    "    \n",
    "    @property\n",
    "    def get_opacity(self):\n",
    "        return self.opacity_activation(self._opacity)\n",
    "    \n",
    "    def get_covariance(self, scaling_modifier = 1):\n",
    "        return self.covariance_activation(self.get_scaling, scaling_modifier, self._rotation)\n",
    "\n",
    "    def oneupSHdegree(self):\n",
    "        if self.active_sh_degree < self.max_sh_degree:\n",
    "            self.active_sh_degree += 1\n",
    "\n",
    "    def construct_list_of_attributes(self):\n",
    "        l = ['x', 'y', 'z', 'nx', 'ny', 'nz']\n",
    "        # All channels except the 3 DC\n",
    "        \n",
    "        for i in range(self._features_dc.shape[1]*self._features_dc.shape[2]):\n",
    "            l.append('f_dc_{}'.format(i))\n",
    "        \n",
    "        # l.append('red')\n",
    "        # l.append('green')\n",
    "        # l.append('blue')\n",
    "        \n",
    "        for i in range(self._features_rest.shape[1]*self._features_rest.shape[2]):\n",
    "            l.append('f_rest_{}'.format(i))\n",
    "        l.append('opacity')\n",
    "        for i in range(self._scaling.shape[1]):\n",
    "            l.append('scale_{}'.format(i))\n",
    "        for i in range(self._rotation.shape[1]):\n",
    "            l.append('rot_{}'.format(i))\n",
    "        return l\n",
    "    \n",
    "    def construct_list_of_attributes_rgb(self):\n",
    "        l = ['x', 'y', 'z']\n",
    "        # All channels except the 3 DC\n",
    "        \n",
    "        for i in range(self._features_dc.shape[1]*self._features_dc.shape[2]):\n",
    "            l.append('f_dc_{}'.format(i))\n",
    "        \n",
    "        return l\n",
    "\n",
    "    def save_ply(self, path):\n",
    "        mkdir_p(os.path.dirname(path))\n",
    "\n",
    "        xyz = self._xyz.detach().cpu().numpy()\n",
    "        normals = np.zeros_like(xyz)\n",
    "        f_dc = self._features_dc.detach().transpose(1, 2).flatten(start_dim=1).contiguous().cpu().numpy()\n",
    "        f_rest = self._features_rest.detach().transpose(1, 2).flatten(start_dim=1).contiguous().cpu().numpy()\n",
    "        opacities = self._opacity.detach().cpu().numpy()\n",
    "        scale = self._scaling.detach().cpu().numpy()\n",
    "        rotation = self._rotation.detach().cpu().numpy()\n",
    "        \n",
    "        dtype_full = [(attribute, 'f4') for attribute in self.construct_list_of_attributes()]\n",
    "\n",
    "        elements = np.empty(xyz.shape[0], dtype=dtype_full)\n",
    "        attributes = np.concatenate((xyz, normals, f_dc, f_rest, opacities, scale, rotation), axis=1)\n",
    "        elements[:] = list(map(tuple, attributes))\n",
    "        el = PlyElement.describe(elements, 'vertex')\n",
    "        PlyData([el]).write(path)\n",
    "        \n",
    "    def save_ply_rgb(self, path):\n",
    "        mkdir_p(os.path.dirname(path))\n",
    "\n",
    "        xyz = self._xyz.detach().cpu().numpy()\n",
    "        f_dc = self._features_dc.detach().transpose(1, 2).flatten(start_dim=1).contiguous().cpu().numpy()\n",
    "        opacities = self.get_opacity.detach().cpu().numpy()\n",
    "        \n",
    "        scale_sum = self._scaling.sum(dim=-1)\n",
    "        \n",
    "        scale_max = scale_sum.max()\n",
    "        scale_min = scale_sum.min()\n",
    "        \n",
    "        print(opacities.min(), opacities.max())\n",
    "        \n",
    "        \n",
    "        rgb = f_dc.copy()\n",
    "        for idx in range(len(opacities)):\n",
    "            opacity = opacities[idx]\n",
    "            rgb[idx][2] = 0\n",
    "            rgb[idx][0] = opacity * 255\n",
    "            # rgb[idx][1] = 255 - rgb[idx][0]\n",
    "            rgb[idx][1] = 255 * (scale_sum[idx] - scale_min) / (scale_max - scale_min)\n",
    "\n",
    "        dtype_full = [(attribute, 'f4') for attribute in self.construct_list_of_attributes_rgb()]\n",
    "        for attr in ['red', 'green', 'blue']:\n",
    "            dtype_full.append((attr, 'u1'))\n",
    "            \n",
    "\n",
    "        elements = np.empty(xyz.shape[0], dtype=dtype_full)\n",
    "        attributes = np.concatenate((xyz, f_dc, rgb), axis=1)\n",
    "        elements[:] = list(map(tuple, attributes))\n",
    "        el = PlyElement.describe(elements, 'vertex')\n",
    "        PlyData([el]).write(path)\n",
    "\n",
    "    def load_ply(self, path):\n",
    "        plydata = PlyData.read(path)\n",
    "\n",
    "        xyz = np.stack((np.asarray(plydata.elements[0][\"x\"]),\n",
    "                        np.asarray(plydata.elements[0][\"y\"]),\n",
    "                        np.asarray(plydata.elements[0][\"z\"])),  axis=1)\n",
    "        opacities = np.asarray(plydata.elements[0][\"opacity\"])[..., np.newaxis]\n",
    "\n",
    "        features_dc = np.zeros((xyz.shape[0], 3, 1))\n",
    "        features_dc[:, 0, 0] = np.asarray(plydata.elements[0][\"f_dc_0\"])\n",
    "        features_dc[:, 1, 0] = np.asarray(plydata.elements[0][\"f_dc_1\"])\n",
    "        features_dc[:, 2, 0] = np.asarray(plydata.elements[0][\"f_dc_2\"])\n",
    "\n",
    "        extra_f_names = [p.name for p in plydata.elements[0].properties if p.name.startswith(\"f_rest_\")]\n",
    "        extra_f_names = sorted(extra_f_names, key = lambda x: int(x.split('_')[-1]))\n",
    "        assert len(extra_f_names)==3*(self.max_sh_degree + 1) ** 2 - 3\n",
    "        features_extra = np.zeros((xyz.shape[0], len(extra_f_names)))\n",
    "        for idx, attr_name in enumerate(extra_f_names):\n",
    "            features_extra[:, idx] = np.asarray(plydata.elements[0][attr_name])\n",
    "        # Reshape (P,F*SH_coeffs) to (P, F, SH_coeffs except DC)\n",
    "        features_extra = features_extra.reshape((features_extra.shape[0], 3, (self.max_sh_degree + 1) ** 2 - 1))\n",
    "\n",
    "        scale_names = [p.name for p in plydata.elements[0].properties if p.name.startswith(\"scale_\")]\n",
    "        scale_names = sorted(scale_names, key = lambda x: int(x.split('_')[-1]))\n",
    "        scales = np.zeros((xyz.shape[0], len(scale_names)))\n",
    "        for idx, attr_name in enumerate(scale_names):\n",
    "            scales[:, idx] = np.asarray(plydata.elements[0][attr_name])\n",
    "\n",
    "        rot_names = [p.name for p in plydata.elements[0].properties if p.name.startswith(\"rot\")]\n",
    "        rot_names = sorted(rot_names, key = lambda x: int(x.split('_')[-1]))\n",
    "        rots = np.zeros((xyz.shape[0], len(rot_names)))\n",
    "        for idx, attr_name in enumerate(rot_names):\n",
    "            rots[:, idx] = np.asarray(plydata.elements[0][attr_name])\n",
    "\n",
    "        self._xyz = nn.Parameter(torch.tensor(xyz, dtype=torch.float, device=\"cuda\").requires_grad_(True))\n",
    "        self._features_dc = nn.Parameter(torch.tensor(features_dc, dtype=torch.float, device=\"cuda\").transpose(1, 2).contiguous().requires_grad_(True))\n",
    "        self._features_rest = nn.Parameter(torch.tensor(features_extra, dtype=torch.float, device=\"cuda\").transpose(1, 2).contiguous().requires_grad_(True))\n",
    "        self._opacity = nn.Parameter(torch.tensor(opacities, dtype=torch.float, device=\"cuda\").requires_grad_(True))\n",
    "        self._scaling = nn.Parameter(torch.tensor(scales, dtype=torch.float, device=\"cuda\").requires_grad_(True))\n",
    "        self._rotation = nn.Parameter(torch.tensor(rots, dtype=torch.float, device=\"cuda\").requires_grad_(True))\n",
    "\n",
    "        self.active_sh_degree = self.max_sh_degree\n",
    "\n",
    "\n",
    "    def prune_points(self, mask):\n",
    "        valid_points_mask = ~mask\n",
    "        # optimizable_tensors = self._prune_optimizer(valid_points_mask)\n",
    "\n",
    "        self._xyz = self._xyz[valid_points_mask]\n",
    "        self._features_dc = self._features_dc[valid_points_mask]\n",
    "        self._features_rest = self._features_rest[valid_points_mask]\n",
    "        self._opacity = self._opacity[valid_points_mask]\n",
    "        self._scaling = self._scaling[valid_points_mask]\n",
    "        self._rotation = self._rotation[valid_points_mask]\n"
   ]
  },
  {
   "cell_type": "code",
   "execution_count": 47,
   "metadata": {},
   "outputs": [
    {
     "name": "stdout",
     "output_type": "stream",
     "text": [
      "0.95\n",
      "0.9\n",
      "0.85\n",
      "0.8\n",
      "0.75\n",
      "0.7\n",
      "0.6499999999999999\n",
      "0.6\n",
      "0.55\n",
      "0.5\n",
      "0.44999999999999996\n",
      "0.3999999999999999\n",
      "0.35\n",
      "0.29999999999999993\n",
      "0.25\n",
      "0.19999999999999996\n",
      "0.1499999999999999\n",
      "0.09999999999999998\n",
      "0.04999999999999993\n",
      "0.05\n",
      "0.1\n",
      "0.15000000000000002\n",
      "0.2\n",
      "0.25\n",
      "0.30000000000000004\n",
      "0.35000000000000003\n",
      "0.4\n",
      "0.45\n",
      "0.5\n",
      "0.55\n",
      "0.6000000000000001\n",
      "0.65\n",
      "0.7000000000000001\n",
      "0.75\n",
      "0.8\n",
      "0.8500000000000001\n",
      "0.9\n",
      "0.9500000000000001\n"
     ]
    }
   ],
   "source": [
    "gaussian = GaussianModel(0)\n",
    "\n",
    "dir_path = \"output/11-10-22:26:36-gs-blue/point_cloud/iteration_7000\"\n",
    "ply_path = os.path.join(dir_path, \"point_cloud.ply\")\n",
    "\n",
    "gaussian.load_ply(ply_path)\n",
    "for ratio in range(1, 20):\n",
    "    threshold = 1 - ratio * 0.05\n",
    "    kill_mask = gaussian.get_opacity > threshold\n",
    "    kill_mask = kill_mask.squeeze().cuda().bool()\n",
    "    \n",
    "    gaussian.prune_points(kill_mask)\n",
    "    pruned_ply_path = os.path.join(dir_path, \"lower_{thre:.2f}\".format(thre = threshold))\n",
    "    gaussian.save_ply(pruned_ply_path)\n",
    "    print(threshold)\n",
    "    \n",
    "gaussian.load_ply(ply_path)\n",
    "for ratio in range(1, 20):\n",
    "    threshold = ratio * 0.05\n",
    "    kill_mask = gaussian.get_opacity <= threshold\n",
    "    kill_mask = kill_mask.squeeze().cuda().bool()\n",
    "    \n",
    "    gaussian.prune_points(kill_mask)\n",
    "    pruned_ply_path = os.path.join(dir_path, \"upper_{thre:.2f}\".format(thre = threshold))\n",
    "    gaussian.save_ply(pruned_ply_path)\n",
    "    print(threshold)"
   ]
  },
  {
   "cell_type": "code",
   "execution_count": 2,
   "metadata": {},
   "outputs": [],
   "source": [
    "gaussian = GaussianModel(3)\n",
    "\n",
    "dir_path = \"output/11-05-21:25:51-40rock-dense/point_cloud/iteration_30000\"\n",
    "model_name = \"point_cloud.ply\"\n",
    "ply_path = os.path.join(dir_path, \"{}\".format(model_name))\n",
    "\n",
    "gaussian.load_ply(ply_path)"
   ]
  },
  {
   "cell_type": "code",
   "execution_count": 57,
   "metadata": {},
   "outputs": [
    {
     "name": "stdout",
     "output_type": "stream",
     "text": [
      "0.0010536631 1.0\n"
     ]
    }
   ],
   "source": [
    "save_path = os.path.join(dir_path, \"{}-opacity+scale.ply\".format(model_name))\n",
    "gaussian.save_ply_rgb(save_path)"
   ]
  },
  {
   "cell_type": "code",
   "execution_count": 13,
   "metadata": {},
   "outputs": [],
   "source": [
    "scaling = gaussian.get_scaling\n",
    "max_scale = scaling.max(axis=-1).values\n",
    "min_scale = scaling.min(axis=-1).values\n",
    "\n",
    "ratio = max_scale / min_scale"
   ]
  },
  {
   "cell_type": "code",
   "execution_count": 19,
   "metadata": {},
   "outputs": [
    {
     "data": {
      "text/plain": [
       "tensor([0.0054, 0.0129, 0.0509,  ..., 1.2088, 0.9625, 0.5144], device='cuda:0',\n",
       "       grad_fn=<MaxBackward0>)"
      ]
     },
     "execution_count": 19,
     "metadata": {},
     "output_type": "execute_result"
    }
   ],
   "source": []
  },
  {
   "cell_type": "code",
   "execution_count": 20,
   "metadata": {},
   "outputs": [
    {
     "data": {
      "text/plain": [
       "tensor([2.6928e-03, 8.9687e-04, 1.8840e-04,  ..., 8.3808e-05, 2.1962e-04,\n",
       "        5.2424e-06], device='cuda:0', grad_fn=<MinBackward0>)"
      ]
     },
     "execution_count": 20,
     "metadata": {},
     "output_type": "execute_result"
    }
   ],
   "source": [
    "min_scale"
   ]
  },
  {
   "cell_type": "code",
   "execution_count": 51,
   "metadata": {},
   "outputs": [
    {
     "name": "stdout",
     "output_type": "stream",
     "text": [
      "median: 1.4054806\n",
      "mean: 1.9235041\n",
      "std: 1.7230551\n",
      "10-th percentile: 0.2348351776599884\n",
      "20-th percentile: 0.4718621850013734\n",
      "30-th percentile: 0.727521526813507\n",
      "40-th percentile: 1.0279159069061279\n",
      "50-th percentile: 1.4054805636405945\n",
      "60-th percentile: 1.879327630996704\n",
      "70-th percentile: 2.4662818908691406\n",
      "80-th percentile: 3.259427642822266\n",
      "90-th percentile: 4.381693363189697\n"
     ]
    }
   ],
   "source": [
    "import numpy as np\n",
    "log_ratio = np.log(mid_ratio.cpu().detach().numpy())\n",
    "print(\"median:\", np.median(log_ratio))\n",
    "print(\"mean:\", np.mean(log_ratio))\n",
    "print(\"std:\", np.std(log_ratio))\n",
    "\n",
    "for q in range(1, 10):\n",
    "    print(\"{}-th percentile:\".format(int(q*10)), np.percentile(log_ratio, q=q*10))"
   ]
  },
  {
   "cell_type": "code",
   "execution_count": 17,
   "metadata": {},
   "outputs": [
    {
     "data": {
      "text/plain": [
       "(669650,)"
      ]
     },
     "execution_count": 17,
     "metadata": {},
     "output_type": "execute_result"
    }
   ],
   "source": [
    "plt_ratio.shape"
   ]
  },
  {
   "cell_type": "code",
   "execution_count": 43,
   "metadata": {},
   "outputs": [
    {
     "data": {
      "image/png": "[encoded data removed]",
      "text/plain": [
       "<Figure size 432x288 with 1 Axes>"
      ]
     },
     "metadata": {
      "needs_background": "light"
     },
     "output_type": "display_data"
    },
    {
     "name": "stdout",
     "output_type": "stream",
     "text": [
      "19.639776 2.3841828e-06\n"
     ]
    }
   ],
   "source": [
    "import matplotlib.pyplot as plt\n",
    "import numpy as np\n",
    "\n",
    "plt_ratio = mid_ratio.cpu().detach().numpy()\n",
    "# scale_sum = torch.exp(gaussian._scaling.sum(dim=-1)).cpu().detach().numpy()\n",
    "data = np.log(plt_ratio)\n",
    "\n",
    "# Create a histogram\n",
    "plt.hist(data, bins=50, color='blue', alpha=0.7)\n",
    "\n",
    "# Add labels and title\n",
    "plt.xlabel('Value')\n",
    "plt.ylabel('Frequency')\n",
    "plt.title('Histogram of Array')\n",
    "\n",
    "# Show the plot\n",
    "plt.show()\n",
    "\n",
    "print(data.max(), data.min())"
   ]
  },
  {
   "cell_type": "code",
   "execution_count": 58,
   "metadata": {},
   "outputs": [
    {
     "data": {
      "image/png": "[encoded data removed]",
      "text/plain": [
       "<Figure size 432x288 with 1 Axes>"
      ]
     },
     "metadata": {
      "needs_background": "light"
     },
     "output_type": "display_data"
    },
    {
     "name": "stdout",
     "output_type": "stream",
     "text": [
      "-1.693406 -33.126553\n"
     ]
    }
   ],
   "source": [
    "import matplotlib.pyplot as plt\n",
    "import numpy as np\n",
    "\n",
    "# Sample data (replace this with your own array)\n",
    "# data = np.random.randn(1000)\n",
    "\n",
    "scale_sum = gaussian._scaling.cpu().detach().numpy().sum(axis=-1)\n",
    "# scale_sum = torch.exp(gaussian._scaling.sum(dim=-1)).cpu().detach().numpy()\n",
    "data = scale_sum\n",
    "\n",
    "# Create a histogram\n",
    "plt.hist(data, bins=50, color='blue', alpha=0.7)\n",
    "\n",
    "# Add labels and title\n",
    "plt.xlabel('Value')\n",
    "plt.ylabel('Frequency')\n",
    "plt.title('Histogram of Array')\n",
    "\n",
    "# Show the plot\n",
    "plt.show()\n",
    "\n",
    "print(data.max(), data.min())"
   ]
  },
  {
   "cell_type": "code",
   "execution_count": 59,
   "metadata": {},
   "outputs": [
    {
     "data": {
      "image/png": "[encoded data removed]",
      "text/plain": [
       "<Figure size 432x288 with 1 Axes>"
      ]
     },
     "metadata": {
      "needs_background": "light"
     },
     "output_type": "display_data"
    },
    {
     "name": "stdout",
     "output_type": "stream",
     "text": [
      "1.0 0.0010536631\n"
     ]
    }
   ],
   "source": [
    "opacity = gaussian.get_opacity.detach().cpu().numpy()\n",
    "opacity = opacity.squeeze()\n",
    "\n",
    "data = opacity\n",
    "\n",
    "# Create a histogram\n",
    "plt.hist(data, bins=50, color='blue', alpha=0.7)\n",
    "\n",
    "# Add labels and title\n",
    "plt.xlabel('Value')\n",
    "plt.ylabel('Frequency')\n",
    "plt.title('Histogram of Array')\n",
    "\n",
    "# Show the plot\n",
    "plt.show()\n",
    "\n",
    "print(data.max(), data.min())"
   ]
  },
  {
   "cell_type": "code",
   "execution_count": 76,
   "metadata": {},
   "outputs": [
    {
     "data": {
      "image/png": "[encoded data removed]",
      "text/plain": [
       "<Figure size 432x288 with 2 Axes>"
      ]
     },
     "metadata": {
      "needs_background": "light"
     },
     "output_type": "display_data"
    }
   ],
   "source": [
    "import matplotlib.pyplot as plt\n",
    "import numpy as np\n",
    "\n",
    "# Create a grid of values for opacity and scaling\n",
    "opacity = gaussian.get_opacity.detach().cpu().numpy()\n",
    "opacity = opacity.squeeze()\n",
    "\n",
    "scale_sum = gaussian._scaling.cpu().detach().numpy().sum(axis=-1) # logged\n",
    "# scale_sum = torch.exp(gaussian._scaling.sum(dim=-1)).cpu().detach().numpy()\n",
    "\n",
    "# Create a 2D array representing the heatmap data\n",
    "heatmap_data = np.vstack((opacity, scale_sum))\n",
    "\n",
    "# Create a heatmap\n",
    "plt.hist2d(opacity, scale_sum, bins=50)\n",
    "plt.colorbar(label='Intensity')\n",
    "\n",
    "# Add labels and title\n",
    "plt.xlabel('Opacity')\n",
    "plt.ylabel('Scaling')\n",
    "plt.title('Heatmap of Opacity and Scaling')\n",
    "\n",
    "# Show the plot\n",
    "plt.show()\n"
   ]
  },
  {
   "cell_type": "code",
   "execution_count": 72,
   "metadata": {},
   "outputs": [],
   "source": [
    "heatmap_data = np.vstack((opacity, scale_sum)).transpose()"
   ]
  }
 ],
 "metadata": {
  "kernelspec": {
   "display_name": "gaussian_splatting",
   "language": "python",
   "name": "python3"
  },
  "language_info": {
   "codemirror_mode": {
    "name": "ipython",
    "version": 3
   },
   "file_extension": ".py",
   "mimetype": "text/x-python",
   "name": "python",
   "nbconvert_exporter": "python",
   "pygments_lexer": "ipython3",
   "version": "3.7.13"
  }
 },
 "nbformat": 4,
 "nbformat_minor": 2
}
